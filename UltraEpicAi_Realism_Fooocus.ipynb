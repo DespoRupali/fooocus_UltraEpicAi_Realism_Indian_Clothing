{
 "cells": [
  {
   "cell_type": "code",
   "metadata": {
    "id": "ultraepicai-interface",
    "cellView": "form"
   },
   "source": [
    "#@title 🎨 UltraEpicAi Realism Fooocus { display-mode: \"form\" }\n",
    "#@markdown ---\n",
    "#@markdown 💡 *Connect to GPU (T4/A100/V100) before running.*\n",
    "#@markdown #### Customize Your Settings:\n",
    "\n",
    "theme = \"dark\"  #@param [\"dark\", \"light\"]\n",
    "main_model = \"UltraEpicAi_Realism\"  #@param [\"UltraEpicAi_Realism\"]\n",
    "use_indian_clothing = True  #@param {type:\"boolean\"}\n",
    "use_perfect_eyes = False  #@param {type:\"boolean\"}\n",
    "use_hourglass = False  #@param {type:\"boolean\"}\n",
    "use_detailers = False  #@param {type:\"boolean\"}\n",
    "civitai_token = \"\"  #@param {type:\"string\"}\n",
    "extra_args = \"--share --always-high-vram\"  #@param {type:\"string\"}\n",
    "\n",
    "# ======================\n",
    "# ⚙️ Hidden Setup Logic\n",
    "# ======================\n",
    "print(\"🔧 Setting up Fooocus...\")\n",
    "\n",
    "args = f\"{extra_args} --theme {theme}\"\n",
    "\n",
    "# Install and clone\n",
    "!pip install -q \"pip<24\"\n",
    "!pip install -q pygit2==1.15.1\n",
    "%cd /content\n",
    "!git clone https://github.com/lllyasviel/Fooocus.git\n",
    "%cd Fooocus\n",
    "!mkdir -p models/checkpoints models/loras\n",
    "\n",
    "# Download main model\n",
    "if main_model == \"UltraEpicAi_Realism\":\n",
    "  !wget -q -O models/checkpoints/UltraEpicAi_Realism.safetensors \"https://civitai.com/api/download/models/1947685?type=Model&format=SafeTensor&token={civitai_token}\"\n",
    "\n",
    "# Optional LoRAs\n",
    "if use_indian_clothing:\n",
    "  !wget -q -O models/loras/Indian_Clothing.safetensors \"https://civitai.com/api/download/models/2063056?type=Model&format=SafeTensor&token={civitai_token}\"\n",
    "if use_perfect_eyes:\n",
    "  !wget -q -O models/loras/Perfect_Eyes.safetensors \"https://civitai.com/api/download/models/129711?type=Model&format=SafeTensor&token={civitai_token}\"\n",
    "if use_hourglass:\n",
    "  !wget -q -O models/loras/Hourglass_Body_Shape.safetensors \"https://civitai.com/api/download/models/911708?type=Model&format=SafeTensor&token={civitai_token}\"\n",
    "if use_detailers:\n",
    "  !wget -q -O models/loras/Detailers_By_Stable_Yogi.safetensors \"https://civitai.com/api/download/models/1071060?type=Model&format=SafeTensor&token={civitai_token}\"\n",
    "\n",
    "print(\"🚀 Launching Fooocus...\")\n",
    "!python entry_with_update.py {args}"
   ],
   "execution_count": null,
   "outputs": []
  }
 ],
 "metadata": {
  "colab": {
   "provenance": [],
   "mount_file_id": "",
   "authorship_tag": "original",
   "include_colab_link": true
  },
  "kernelspec": {
   "name": "python3",
   "display_name": "Python 3"
  },
  "language_info": {
   "name": "python"
  }
 },
 "nbformat": 4,
 "nbformat_minor": 0
}
